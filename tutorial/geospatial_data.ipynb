{
 "cells": [
  {
   "cell_type": "markdown",
   "metadata": {},
   "source": [
    "# Geospatial data"
   ]
  },
  {
   "cell_type": "markdown",
   "metadata": {},
   "source": [
    "## Purpose\n",
    "\n",
    "The purpose of this section is to give you an overview of the core geospatial data types particularly with respect to cartopy. This will help you to:\n",
    " \n",
    " * recognise the type of data you are dealing with\n",
    " * experience some of the tools at your disposal, and see how well they interoperate\n",
    " * choose appropriate analysis/visualization tools and techniques for your data"
   ]
  },
  {
   "cell_type": "markdown",
   "metadata": {},
   "source": [
    " ## Outline\n",
    " \n",
    " * [Vector to Vector](geospatial/vector_to_vector.ipynb)\n",
    " * [Raster to Raster](geospatial/raster_to_raster.ipynb)\n",
    " * [Vector to Raster](geospatial/vector_to_raster.ipynb)\n",
    " * [Raster to Vector](geospatial/raster_to_vector.ipynb)"
   ]
  },
  {
   "cell_type": "code",
   "execution_count": null,
   "metadata": {},
   "outputs": [],
   "source": []
  }
 ],
 "metadata": {
  "kernelspec": {
   "display_name": "Python 3",
   "language": "python",
   "name": "python3"
  },
  "language_info": {
   "codemirror_mode": {
    "name": "ipython",
    "version": 3
   },
   "file_extension": ".py",
   "mimetype": "text/x-python",
   "name": "python",
   "nbconvert_exporter": "python",
   "pygments_lexer": "ipython3",
   "version": "3.6.5"
  }
 },
 "nbformat": 4,
 "nbformat_minor": 2
}
