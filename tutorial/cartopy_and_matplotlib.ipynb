{
 "cells": [
  {
   "cell_type": "markdown",
   "metadata": {},
   "source": [
    "# Cartopy and the matplotlib interface"
   ]
  },
  {
   "cell_type": "markdown",
   "metadata": {},
   "source": [
    "## Purpose\n",
    "\n",
    "The purpose of this section is to give you an overview of cartopy's matplotlib interface and its documentation. This will help you to:\n",
    " \n",
    " * apply cartopy's matplotlib interface to your own situation/application\n",
    " * navigate cartopy's documentation effectively"
   ]
  },
  {
   "cell_type": "markdown",
   "metadata": {},
   "source": [
    "There is more to cartopy than the matplotlib interface."
   ]
  },
  {
   "cell_type": "markdown",
   "metadata": {},
   "source": [
    "## Cartopy's documentation\n",
    "\n",
    "https://scitools.org.uk/cartopy/docs/latest/\n",
    "\n",
    "Cartopy makes use of the powerful PROJ.4, numpy and shapely libraries and includes a programatic interface built on top of Matplotlib for the creation of publication quality maps.\n",
    "\n",
    "Key features of cartopy are its object oriented projection definitions, and its ability to transform points, lines, vectors, polygons and images between those projections.\n"
   ]
  },
  {
   "cell_type": "markdown",
   "metadata": {},
   "source": [
    "## Cartopy Projections and other reference systems\n",
    "\n",
    "In Cartopy, each projection is a class.\n",
    "Most classes of projection can be configured in projection-specific ways, although Cartopy takes an opinionated stance on sensible defaults.\n",
    "\n",
    "Let's create a Plate Carree projection instance.\n",
    "\n",
    "To do so, we need cartopy's crs module. This is typically imported as ``ccrs`` (Cartopy Coordinate Reference Systems)."
   ]
  },
  {
   "cell_type": "code",
   "execution_count": null,
   "metadata": {},
   "outputs": [],
   "source": [
    "import cartopy.crs as ccrs"
   ]
  },
  {
   "cell_type": "markdown",
   "metadata": {},
   "source": [
    "Cartopy's projection list tells us that the Plate Carree projection is available in the ``ccrs.PlateCarree`` class:\n",
    "\n",
    "https://scitools.org.uk/cartopy/docs/latest/crs/projections.html\n",
    "\n",
    "**Note:** we need to *instantiate* the class in order to do anything projection-y with it!\n"
   ]
  },
  {
   "cell_type": "code",
   "execution_count": null,
   "metadata": {},
   "outputs": [],
   "source": [
    "ccrs.PlateCarree()"
   ]
  },
  {
   "cell_type": "markdown",
   "metadata": {},
   "source": [
    "## Drawing a map\n",
    "\n",
    "Cartopy optionally depends upon matplotlib, and each projection knows how to create a matplotlib Axes (or AxesSubplot) that can represent itself.\n",
    "\n",
    "The Axes that the projection creates is a [cartopy.mpl.geoaxes.GeoAxes](https://scitools.org.uk/cartopy/docs/latest/matplotlib/geoaxes.html#cartopy.mpl.geoaxes.GeoAxes). This Axes subclass overrides some of matplotlib's existing methods, and adds a number of extremely useful ones for drawing maps.\n",
    "\n",
    "We'll go back and look at those methods shortly, but first, let's actually see the cartopy+matplotlib dance in action:"
   ]
  },
  {
   "cell_type": "code",
   "execution_count": null,
   "metadata": {},
   "outputs": [],
   "source": [
    "%matplotlib notebook\n",
    "import matplotlib.pyplot as plt\n",
    "\n",
    "plt.axes(projection=ccrs.PlateCarree())"
   ]
  },
  {
   "cell_type": "markdown",
   "metadata": {},
   "source": [
    "That was a little underwhelming, but we can see that the Axes created is indeed one of those GeoAxes[Subplot] instances.\n",
    "\n",
    "One of the most useful methods that this class adds on top of the standard matplotlib Axes class is the ``coastlines`` method. With no arguments, it will add the Natural Earth ``1:110,000,000`` scale coastline data to the map."
   ]
  },
  {
   "cell_type": "code",
   "execution_count": null,
   "metadata": {},
   "outputs": [],
   "source": [
    "plt.figure()\n",
    "ax = plt.axes(projection=ccrs.PlateCarree())\n",
    "ax.coastlines()"
   ]
  },
  {
   "cell_type": "markdown",
   "metadata": {},
   "source": [
    "We could just as equally created a matplotlib subplot with one of the many approaches that exist. For example, the ```plt.subplots``` function could be used:"
   ]
  },
  {
   "cell_type": "code",
   "execution_count": null,
   "metadata": {},
   "outputs": [],
   "source": [
    "fig, ax = plt.subplots(subplot_kw=dict(projection=ccrs.PlateCarree()))\n",
    "ax.coastlines()"
   ]
  },
  {
   "cell_type": "markdown",
   "metadata": {},
   "source": [
    "## Useful methods of a GeoAxes\n",
    "\n",
    "The [cartopy.mpl.geoaxes.GeoAxes](https://scitools.org.uk/cartopy/docs/latest/matplotlib/geoaxes.html#cartopy.mpl.geoaxes.GeoAxes) class adds a number of useful methods.\n",
    "\n",
    "Let's take a look at:\n",
    "\n",
    " * [set_global](https://scitools.org.uk/cartopy/docs/latest/matplotlib/geoaxes.html#cartopy.mpl.geoaxes.GeoAxes.set_global) - zoom the map out as much as possible\n",
    " * [set_extent](https://scitools.org.uk/cartopy/docs/latest/matplotlib/geoaxes.html#cartopy.mpl.geoaxes.GeoAxes.set_extent) - zoom the map to the given bounding box\n",
    " \n",
    "\n",
    " * [gridlines](https://scitools.org.uk/cartopy/docs/latest/matplotlib/geoaxes.html#cartopy.mpl.geoaxes.GeoAxes.graticule) - add a graticule (and optionally labels) to the axes\n",
    " * [coastlines](https://scitools.org.uk/cartopy/docs/latest/matplotlib/geoaxes.html#cartopy.mpl.geoaxes.GeoAxes.coastlines) - add Natural Earth coastlines to the axes\n",
    " * [stock_img](https://scitools.org.uk/cartopy/docs/latest/matplotlib/geoaxes.html#cartopy.mpl.geoaxes.GeoAxes.stock_img) - add a low-resolution Natural Earth background image to the axes\n",
    " \n",
    " \n",
    " * [imshow](https://matplotlib.org/api/_as_gen/matplotlib.axes.Axes.imshow.html#matplotlib.axes.Axes.imshow) - add an image (numpy array) to the axes\n",
    " * [add_geometries](https://scitools.org.uk/cartopy/docs/latest/matplotlib/geoaxes.html#cartopy.mpl.geoaxes.GeoAxes.add_geometries) - add a collection of geometries (Shapely) to the axes"
   ]
  },
  {
   "cell_type": "code",
   "execution_count": null,
   "metadata": {},
   "outputs": [],
   "source": [
    "plt.figure()\n",
    "ax = plt.axes(projection=ccrs.PlateCarree())\n",
    "\n",
    "ax.set_extent([-170, -50, 10, 80])\n",
    "ax.gridlines(draw_labels=True,\n",
    "             color='black', alpha=0.2, linestyle='--')\n",
    "ax.stock_img()"
   ]
  },
  {
   "cell_type": "markdown",
   "metadata": {},
   "source": [
    "It'd be nice to have state boundaries and a higher resolution image here.\n",
    "\n",
    "There are built-in tools for doing this in cartopy, but let's start with the manual approach...\n",
    "\n",
    "A higher resolution image [from Natural Earth](https://www.naturalearthdata.com/downloads/50m-raster-data/50m-natural-earth-2/) is available in ``resources/natural-earth-2/global.png``.\n",
    "Matplotlib can read PNGs out of the box, so let's use that. Alternatives include pillow, scikit-image, etc."
   ]
  },
  {
   "cell_type": "code",
   "execution_count": null,
   "metadata": {},
   "outputs": [],
   "source": [
    "img = plt.imread('../resources/natural-earth-2/global.png')\n",
    "print(img.shape)"
   ]
  },
  {
   "cell_type": "markdown",
   "metadata": {},
   "source": [
    "A shapefile containing the US state boundaries [from Natural Earth](https://www.naturalearthdata.com/downloads/110m-cultural-vectors/) is available in ``resources/states/states.shp``.\n",
    "\n",
    "There are a number of ways of loading a shapefile, Fiona is one particularly fast approach, but geopandas and pyshp are equally valid."
   ]
  },
  {
   "cell_type": "code",
   "execution_count": null,
   "metadata": {},
   "outputs": [],
   "source": [
    "import fiona\n",
    "import shapely.geometry as sgeom\n",
    "\n",
    "shpfile = '../resources/states/states.shp'\n",
    "records = fiona.open(shpfile)\n",
    "geometries = [sgeom.shape(shp['geometry'])\n",
    "              for shp in records]"
   ]
  },
  {
   "cell_type": "markdown",
   "metadata": {},
   "source": [
    "Now that we've made use of these tools to give us an image (numpy array) and a list of Shapely geometries, let's re-create that map and include our new data."
   ]
  },
  {
   "cell_type": "code",
   "execution_count": null,
   "metadata": {},
   "outputs": [],
   "source": [
    "plt.figure()\n",
    "ax = plt.axes(projection=ccrs.PlateCarree())\n",
    "\n",
    "ax.set_extent([-170, -50, 10, 80])\n",
    "ax.gridlines(draw_labels=True,\n",
    "             color='black', alpha=0.2, linestyle='--')\n",
    "\n",
    "ax.imshow(img, origin='upper',\n",
    "          extent=[-180, 180, -90, 90],\n",
    "          transform=ccrs.PlateCarree())\n",
    "\n",
    "ax.add_geometries(geometries, ccrs.PlateCarree(),\n",
    "                  edgecolor='gray', facecolor='none')"
   ]
  },
  {
   "cell_type": "markdown",
   "metadata": {},
   "source": [
    "There are some important things to note:\n",
    "\n",
    "1. We are doing more work than we strictly need to here. Cartopy already has the ability to draw States via its [Feature interface](https://scitools.org.uk/cartopy/docs/latest/matplotlib/feature_interface.html).\n",
    "\n",
    "\n",
    "2. We are leveraging the power of matplotlib with this interface, we don't need to re-learn terms for how to style things. We can use the exact same syntax as we do with matplotlib (e.g. ``edgecolor``, ``facecolor``, ``linestyle``).\n",
    "\n",
    "\n",
    "3. When we added data to the Axes, we specified both the data to plot **and** the coordinate system of that data using the ``transform`` keyword argument.\n"
   ]
  },
  {
   "cell_type": "markdown",
   "metadata": {},
   "source": [
    "## Why it is important to specify the *coordinate system* of *the data* as well as the *projection* of *the map*\n",
    "\n",
    "You've now seen that the map's projection is defined with the ``projection`` keyword argument when constructing an Axes. You've also seen that when data is added to the Axes it requires coordinate system via the ``transform`` keyword argument.\n",
    "\n",
    "> The single most important feature of cartopy is that it is designed to project your data for you.<br>\n",
    "> **On the whole, cartopy will do the right thing when it comes to poles, anti-meridians, interpolation and map boundaries.**\n",
    "\n",
    "\n",
    "The coordinate reference system can be used to control how the coordinates of your data are interpreted.\n",
    "\n",
    "On the sphere there are infinitely many ways to draw a line between two points. The two most common ways of drawing a line between two points on the sphere are:\n",
    "\n",
    " * as straight lines in projected space\n",
    " * as the line of shortest distance on the sphere (Geodetic).\n",
    "\n",
    "Let's visualize these by drawing a line between New York and Honolulu."
   ]
  },
  {
   "cell_type": "code",
   "execution_count": null,
   "metadata": {},
   "outputs": [],
   "source": [
    "new_york = dict(lon=-74.0060, lat=40.7128)\n",
    "honolulu = dict(lon=-157.8583, lat=21.3069)\n",
    "\n",
    "\n",
    "def new_york_to_honolulu(ax):\n",
    "    lons = [new_york['lon'], honolulu['lon']]\n",
    "    lats = [new_york['lat'], honolulu['lat']]\n",
    "\n",
    "    ax.plot(lons, lats, transform=ccrs.PlateCarree(),\n",
    "             label='Equirectangular straight line')\n",
    "\n",
    "    ax.plot(lons, lats, transform=ccrs.Geodetic(),\n",
    "             label='Great circle')\n",
    "\n",
    "    ax.legend()\n",
    "    \n",
    "    \n",
    "import cartopy.feature\n",
    "    \n",
    "plt.figure()\n",
    "ax = plt.axes(projection=ccrs.PlateCarree())\n",
    "ax.set_extent([-170, -50, 10, 80])\n",
    "\n",
    "ax.gridlines(color='black', alpha=0.2, linestyle='--')\n",
    "ax.stock_img()\n",
    "ax.add_feature(cartopy.feature.STATES, edgecolor='gray')\n",
    "new_york_to_honolulu(ax)"
   ]
  },
  {
   "cell_type": "markdown",
   "metadata": {},
   "source": [
    "Let's take exactly the same code, but change the projection of the map.\n",
    "How about choosing a projection that represents great circles out of New York as straight lines.\n",
    "\n",
    "**Question: ** What class of projections would serve this purpose?"
   ]
  },
  {
   "cell_type": "code",
   "execution_count": null,
   "metadata": {},
   "outputs": [],
   "source": [
    "ny_stereo = ccrs.Stereographic(\n",
    "    central_longitude=new_york['lon'],\n",
    "    central_latitude=new_york['lat'])\n",
    "\n",
    "plt.figure()\n",
    "ax = plt.axes(projection=ny_stereo)\n",
    "ax.set_extent([-170, -50, 10, 80])\n",
    "\n",
    "ax.gridlines(color='black', alpha=0.2, linestyle='--')\n",
    "ax.stock_img()\n",
    "ax.add_feature(cartopy.feature.STATES, edgecolor='gray')\n",
    "new_york_to_honolulu(ax)"
   ]
  },
  {
   "cell_type": "markdown",
   "metadata": {},
   "source": [
    "Notice how **the *map projection* is independent of the *data's coordinate system*.**\n",
    "\n",
    "This is a core principle of cartopy, it gives *you* map projection portability, and *cartopy* enough context to project your data for you."
   ]
  },
  {
   "cell_type": "markdown",
   "metadata": {},
   "source": [
    "#### The downside of automatic projection\n",
    "\n",
    "Whilst cartopy tends to do the right thing when it comes to wraparounds and singularities,\n",
    "the big downside of cartopy's automatic re-projection functionality is that it isn't easily controlled.\n",
    "\n",
    "For example, the lines in the previous plots are noticably low-resolution.\n",
    "This is demonstrating that cartopy operates with straight-line segments, rather than true parametric curves (such as Bézier curves).\n",
    "This effectively means that there is an interpolation stage along the curve to approximate it as straight line segments.\n",
    "\n",
    "Cartopy's interpolation \"threshold\" is currently defined in the map projection definition, and can currently only be influenced by subclassing the projection in question. This interface is highly likely to change in the future, but for now:"
   ]
  },
  {
   "cell_type": "code",
   "execution_count": null,
   "metadata": {},
   "outputs": [],
   "source": [
    "class HigherResStereo(ccrs.Stereographic):\n",
    "    @property\n",
    "    def threshold(self):\n",
    "        # Give the interpolation 10x more fidelity.\n",
    "        return super().threshold / 10\n",
    "\n",
    "    \n",
    "ny_stereo = HigherResStereo(\n",
    "    central_longitude=new_york['lon'],\n",
    "    central_latitude=new_york['lat'])\n",
    "\n",
    "plt.figure()\n",
    "ax = plt.axes(projection=ny_stereo)\n",
    "ax.set_extent([-170, -50, 10, 80])\n",
    "\n",
    "ax.gridlines(color='black', alpha=0.2, linestyle='--')\n",
    "ax.stock_img()\n",
    "ax.add_feature(cartopy.feature.STATES, edgecolor='gray')\n",
    "new_york_to_honolulu(ax)"
   ]
  },
  {
   "cell_type": "markdown",
   "metadata": {},
   "source": [
    "![Around the world in 80 days](static/around_the_world.jpg)\n",
    "\n",
    "Let's get to the main theme of the topic: **Around the world in 80 days**\n",
    "\n",
    "\n",
    "\n",
    "**Exercise 2**: Phileas Fogg plans to travel around the world in 80 days.\n",
    "He plans to depart from London, and his main stops are planned to be: Suez, Bombay, Calcutta, Hong-Kong, Yokohama, San Fransisco, New York City, London.\n",
    "Draw a map showing a high-level route of the planned journey."
   ]
  },
  {
   "cell_type": "code",
   "execution_count": null,
   "metadata": {},
   "outputs": [],
   "source": [
    "# Some approximate locations of each of the cities are provided.\n",
    "places = {'London': {'lon': -0.1278, 'lat': 51.5074},\n",
    "          'Suez': {'lon': 32.5498, 'lat': 29.9668},\n",
    "          'Bombay': {'lon': 72.8777, 'lat': 19.0760},\n",
    "          'Calcutta': {'lon': 88.3639, 'lat': 22.5726},\n",
    "          'Hong Kong': {'lon': 114.1095, 'lat': 22.3964},\n",
    "          'Yokohama': {'lon': 139.6380, 'lat': 35.4437},\n",
    "          'San Fransisco': {'lon': -122.4194, 'lat': 37.7749},\n",
    "          'New York City': {'lon': -74.0060, 'lat': 40.7128},\n",
    "         }"
   ]
  },
  {
   "cell_type": "code",
   "execution_count": null,
   "metadata": {},
   "outputs": [],
   "source": [
    "# EXERCISE SOLUTION\n",
    "\n",
    "plt.figure()\n",
    "ax = plt.axes(projection=ccrs.PlateCarree())\n",
    "\n",
    "ax.coastlines()\n",
    "destinations = [\n",
    "    'London', 'Suez', 'Bombay', 'Calcutta', 'Hong Kong',\n",
    "    'Yokohama', 'San Fransisco', 'New York City', 'London']\n",
    "\n",
    "lons, lats = zip(*[\n",
    "    (places[place]['lon'], places[place]['lat'])\n",
    "     for place in destinations])\n",
    "\n",
    "ax.stock_img()\n",
    "ax.set_title(\"Phileas Fogg's proposed route\")\n",
    "ax.plot(lons, lats, '--', color='orange', linewidth=4, transform=ccrs.Geodetic())"
   ]
  },
  {
   "cell_type": "code",
   "execution_count": null,
   "metadata": {},
   "outputs": [],
   "source": []
  }
 ],
 "metadata": {
  "kernelspec": {
   "display_name": "Python 3",
   "language": "python",
   "name": "python3"
  },
  "language_info": {
   "codemirror_mode": {
    "name": "ipython",
    "version": 3
   },
   "file_extension": ".py",
   "mimetype": "text/x-python",
   "name": "python",
   "nbconvert_exporter": "python",
   "pygments_lexer": "ipython3",
   "version": "3.6.5"
  }
 },
 "nbformat": 4,
 "nbformat_minor": 2
}
