{
 "cells": [
  {
   "cell_type": "markdown",
   "metadata": {},
   "source": [
    "# Cartopy tutorial: Transforming raster to raster"
   ]
  },
  {
   "cell_type": "markdown",
   "metadata": {},
   "source": [
    "NOTE: This is intended to be a short section."
   ]
  },
  {
   "cell_type": "markdown",
   "metadata": {},
   "source": [
    "AIM: Show simple contourf & pcolormesh"
   ]
  },
  {
   "cell_type": "markdown",
   "metadata": {},
   "source": [
    "AIM: pcolormesh & contourf of ``../../resources/HadCRUT4/...`` using NetCDF4Python, XArray and Iris"
   ]
  },
  {
   "cell_type": "markdown",
   "metadata": {},
   "source": [
    "*Exercise:* Plot this temperature data with Fogg's journey in a Robinson projection."
   ]
  },
  {
   "cell_type": "markdown",
   "metadata": {},
   "source": [
    "POSSIBLE AIM: Regridding of the data using Iris?"
   ]
  },
  {
   "cell_type": "markdown",
   "metadata": {},
   "source": [
    "POSSIBLE AIM: Pull out temperatures along the track. Save as NetCDF."
   ]
  }
 ],
 "metadata": {
  "kernelspec": {
   "display_name": "Python 3",
   "language": "python",
   "name": "python3"
  },
  "language_info": {
   "codemirror_mode": {
    "name": "ipython",
    "version": 3
   },
   "file_extension": ".py",
   "mimetype": "text/x-python",
   "name": "python",
   "nbconvert_exporter": "python",
   "pygments_lexer": "ipython3",
   "version": "3.6.5"
  }
 },
 "nbformat": 4,
 "nbformat_minor": 2
}
