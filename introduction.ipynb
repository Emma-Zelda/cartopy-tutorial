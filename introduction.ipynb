{
 "cells": [
  {
   "cell_type": "markdown",
   "metadata": {
    "slideshow": {
     "slide_type": "slide"
    }
   },
   "source": [
    "# Cartopy tutorial - Around the world in 80 ways\n",
    "## SciPy conference 2018\n",
    "## Phileas Elson & Bill \"Passepartout\" Little"
   ]
  },
  {
   "cell_type": "markdown",
   "metadata": {
    "slideshow": {
     "slide_type": "subslide"
    }
   },
   "source": [
    "## Objective\n",
    "By the end of the tutorial we want to have given you:\n",
    " * Background on geospatial terms and concepts\n",
    " * Hands-on experience of using cartopy & friends\n",
    " * A sense of what Cartopy *is* and *is not*."
   ]
  },
  {
   "cell_type": "markdown",
   "metadata": {
    "slideshow": {
     "slide_type": "subslide"
    }
   },
   "source": [
    "## Acknowledgements\n",
    "\n",
    "\n",
    "* All contributors the open source \"geospatial\" stack\n",
    "* https://github.com/kjordahl/SciPy-Tutorial-2015\n",
    "* Met Office\n",
    "* SciPy conference"
   ]
  },
  {
   "cell_type": "markdown",
   "metadata": {
    "slideshow": {
     "slide_type": "slide"
    }
   },
   "source": [
    "## Outline\n",
    "\n",
    "* [Projections, reference systems and other geospatial nomenclature](tutorial/projections_crs_and_terms.ipynb)\n",
    "* [Cartopy and its matplotlib interface](tutorial/cartopy_and_matplotlib.ipynb)\n",
    "* [Geospatial data](tutorial/geospatial_data.ipynb)\n",
    " * [Vector to Vector](tutorial/geospatial/vector_to_vector.ipynb)\n",
    " * [Raster to Raster](tutorial/geospatial/raster_to_raster.ipynb)\n",
    " * [Vector to Raster](tutorial/geospatial/vector_to_raster.ipynb)\n",
    " * [Raster to Vector](tutorial/geospatial/raster_to_vector.ipynb)\n",
    "* [Round-up](tutorial/around_the_world_roundup.ipynb)"
   ]
  },
  {
   "cell_type": "markdown",
   "metadata": {
    "slideshow": {
     "slide_type": "subslide"
    }
   },
   "source": [
    "## Supporting material\n",
    "\n",
    "* Repository address\n",
    "* Printouts\n",
    "* **Conda** requirements\n",
    "* Slack channel\n",
    "\n",
    "* Slides rendered on nbviewer: http://nbviewer.jupyter.org/format/slides/github/...."
   ]
  },
  {
   "cell_type": "markdown",
   "metadata": {
    "slideshow": {
     "slide_type": "subslide"
    }
   },
   "source": [
    "## For after the tutorial\n",
    "\n",
    " * github:\n",
    " * StackOverflow"
   ]
  },
  {
   "cell_type": "code",
   "execution_count": 12,
   "metadata": {
    "slideshow": {
     "slide_type": "skip"
    }
   },
   "outputs": [
    {
     "data": {
      "text/html": [
       "\n",
       "    <script id=\"123\">\n",
       "      \n",
       "        console.log($('#123'));\n",
       "        $('#123').parents('.cell').css('background-color', 'red');\n",
       "    </script>\n",
       "    "
      ],
      "text/plain": [
       "<IPython.core.display.HTML object>"
      ]
     },
     "execution_count": 12,
     "metadata": {},
     "output_type": "execute_result"
    }
   ],
   "source": [
    "from IPython.core.display import HTML\n",
    "import requests\n",
    "def css():\n",
    "    SHA = 123\n",
    "    style = \"\"\"\n",
    "    <script id=\"{SHA}\">\n",
    "      $('#{SHA}').parents('.cell').css('background-color', 'red');\n",
    "    </script>\n",
    "    \"\"\".format(SHA=SHA)\n",
    "    return HTML(style)\n",
    "css()"
   ]
  }
 ],
 "metadata": {
  "celltoolbar": "Slideshow",
  "kernelspec": {
   "display_name": "Python 3",
   "language": "python",
   "name": "python3"
  },
  "language_info": {
   "codemirror_mode": {
    "name": "ipython",
    "version": 3
   },
   "file_extension": ".py",
   "mimetype": "text/x-python",
   "name": "python",
   "nbconvert_exporter": "python",
   "pygments_lexer": "ipython3",
   "version": "3.6.5"
  }
 },
 "nbformat": 4,
 "nbformat_minor": 2
}
