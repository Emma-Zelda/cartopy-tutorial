{
 "cells": [
  {
   "cell_type": "markdown",
   "metadata": {},
   "source": [
    "# Cartopy tutorial - Around the world in 80 ways\n",
    "## SciPy conference 2018\n",
    "## Phileas Elson & Bill \"Passepartout\" Little"
   ]
  },
  {
   "cell_type": "markdown",
   "metadata": {},
   "source": [
    "## Objective\n",
    "By the end of the tutorial we want to have given you:\n",
    " * Background on geospatial terms and concepts\n",
    " * Hands-on experience of using cartopy & friends\n",
    " * A sense of what Cartopy *is* and *is not*."
   ]
  },
  {
   "cell_type": "markdown",
   "metadata": {},
   "source": [
    "## Outline\n",
    "\n",
    "* [Projections, reference systems and other geospatial nomenclature](projections_crs_and_terms.ipynb)\n",
    "* [Cartopy and its matplotlib interface](cartopy_and_matplotlib.ipynb)\n",
    "* [Geospatial data](geospatial_data.ipynb)\n",
    " * [Vector to Vector](geospatial/vector_to_vector.ipynb)\n",
    " * [Raster to Raster](geospatial/raster_to_raster.ipynb)\n",
    " * [Vector to Raster](geospatial/vector_to_raster.ipynb)\n",
    " * [Raster to Vector](geospatial/raster_to_vector.ipynb)\n",
    "* [Round-up](around_the_world_roundup.ipynb)"
   ]
  },
  {
   "cell_type": "markdown",
   "metadata": {},
   "source": [
    "## Supporting material\n",
    "\n",
    "* Repository address\n",
    "* Printouts\n",
    "* **Conda** requirements\n",
    "* Slack channel"
   ]
  },
  {
   "cell_type": "markdown",
   "metadata": {},
   "source": [
    "## For after the tutorial\n",
    "\n",
    " * github:\n",
    " * StackOverflow"
   ]
  }
 ],
 "metadata": {
  "kernelspec": {
   "display_name": "Python 3",
   "language": "python",
   "name": "python3"
  },
  "language_info": {
   "codemirror_mode": {
    "name": "ipython",
    "version": 3
   },
   "file_extension": ".py",
   "mimetype": "text/x-python",
   "name": "python",
   "nbconvert_exporter": "python",
   "pygments_lexer": "ipython3",
   "version": "3.6.5"
  }
 },
 "nbformat": 4,
 "nbformat_minor": 2
}
